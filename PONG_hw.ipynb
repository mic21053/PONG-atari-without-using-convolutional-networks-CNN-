{
 "cells": [
  {
   "cell_type": "markdown",
   "metadata": {},
   "source": [
    "# 1. Install the necessary packages"
   ]
  },
  {
   "cell_type": "code",
   "execution_count": null,
   "metadata": {
    "executionInfo": {
     "elapsed": 10,
     "status": "ok",
     "timestamp": 1666428183609,
     "user": {
      "displayName": "Михаил Архипов",
      "userId": "10246866371929740571"
     },
     "user_tz": -180
    },
    "id": "8-OqxMawK_G0"
   },
   "outputs": [],
   "source": [
    "# !pip install gym==0.15.3\n",
    "# !pip install atari-py\n",
    "# !pip install matplotlib\n",
    "# !pip install tqdm\n",
    "# !pip install tensorflow"
   ]
  },
  {
   "cell_type": "markdown",
   "metadata": {},
   "source": [
    "# 2. Install the Atari library"
   ]
  },
  {
   "cell_type": "markdown",
   "metadata": {},
   "source": [
    "\"Pong\" refers to Atari games, so download the library with Atari games from the official website and install it. One of the options for how to do this is presented in the cell below."
   ]
  },
  {
   "cell_type": "code",
   "execution_count": null,
   "metadata": {
    "executionInfo": {
     "elapsed": 320,
     "status": "ok",
     "timestamp": 1666430775609,
     "user": {
      "displayName": "Михаил Архипов",
      "userId": "10246866371929740571"
     },
     "user_tz": -180
    },
    "id": "kWfhylgpLIqo"
   },
   "outputs": [],
   "source": [
    "# import urllib.request\n",
    "# urllib.request.urlretrieve('http://www.atarimania.com/roms/Roms.rar','Roms.rar')\n",
    "# !pip install unrar\n",
    "# !unrar x Roms.rar\n",
    "# !mkdir rars\n",
    "# !mv 'HC ROMS' rars\n",
    "# !mv ROMS rars\n",
    "# !python -m atari_py.import_roms rars"
   ]
  },
  {
   "cell_type": "markdown",
   "metadata": {},
   "source": [
    "# 3. Importing the necessary libraries"
   ]
  },
  {
   "cell_type": "code",
   "execution_count": 1,
   "metadata": {
    "colab": {
     "base_uri": "https://localhost:8080/"
    },
    "executionInfo": {
     "elapsed": 3690,
     "status": "ok",
     "timestamp": 1666431361252,
     "user": {
      "displayName": "Михаил Архипов",
      "userId": "10246866371929740571"
     },
     "user_tz": -180
    },
    "id": "7VrDJFWOMlmp",
    "outputId": "432f1946-03d3-49de-d7af-baac97975d10"
   },
   "outputs": [
    {
     "name": "stderr",
     "output_type": "stream",
     "text": [
      "2023-02-02 01:53:48.612854: I tensorflow/core/platform/cpu_feature_guard.cc:193] This TensorFlow binary is optimized with oneAPI Deep Neural Network Library (oneDNN) to use the following CPU instructions in performance-critical operations:  AVX2 FMA\n",
      "To enable them in other operations, rebuild TensorFlow with the appropriate compiler flags.\n"
     ]
    },
    {
     "name": "stdout",
     "output_type": "stream",
     "text": [
      "0.15.3\n"
     ]
    }
   ],
   "source": [
    "import numpy as np\n",
    "import time\n",
    "import IPython.display as display\n",
    "import matplotlib.pyplot as plt\n",
    "import matplotlib.image as mpimg\n",
    "%matplotlib inline\n",
    "import random\n",
    "from tqdm.notebook import tqdm, trange\n",
    "from gym.wrappers import Monitor\n",
    "from keras.models import load_model\n",
    "import pickle\n",
    "\n",
    "import gym\n",
    "\n",
    "import tensorflow as tf\n",
    "print(gym.__version__)"
   ]
  },
  {
   "cell_type": "markdown",
   "metadata": {},
   "source": [
    "# 4. Importing the environment with the game \"Pong-v0\""
   ]
  },
  {
   "cell_type": "code",
   "execution_count": 2,
   "metadata": {
    "colab": {
     "base_uri": "https://localhost:8080/"
    },
    "executionInfo": {
     "elapsed": 9,
     "status": "ok",
     "timestamp": 1666431361252,
     "user": {
      "displayName": "Михаил Архипов",
      "userId": "10246866371929740571"
     },
     "user_tz": -180
    },
    "id": "IKFQzv-lNIde",
    "outputId": "76631ec5-8df0-4163-bcce-6a7b8e5f20af"
   },
   "outputs": [
    {
     "name": "stdout",
     "output_type": "stream",
     "text": [
      "States shape: (210, 160, 3)\n",
      "Actions: 6\n",
      "Actions: ['NOOP', 'FIRE', 'RIGHT', 'LEFT', 'RIGHTFIRE', 'LEFTFIRE']\n"
     ]
    }
   ],
   "source": [
    "env = gym.make(\"Pong-v0\")\n",
    "\n",
    "STATE_SHAPE = env.observation_space.shape\n",
    "NUM_ACTIONS = env.action_space.n\n",
    "ACTION_MEANING = env.unwrapped.get_action_meanings()\n",
    "\n",
    "print('States shape: {}'.format(STATE_SHAPE))\n",
    "print('Actions: {}'.format(NUM_ACTIONS))\n",
    "print('Actions: {}'.format(ACTION_MEANING))"
   ]
  },
  {
   "cell_type": "markdown",
   "metadata": {},
   "source": [
    "As we can see, each state of the environment is represented by a color picture (3 color channels) with a size of 210 x 160. The agent can perform 6 actions."
   ]
  },
  {
   "cell_type": "markdown",
   "metadata": {},
   "source": [
    "# 5. Let's write a function to encode the current state of our environment into an embedding array."
   ]
  },
  {
   "cell_type": "code",
   "execution_count": 3,
   "metadata": {
    "executionInfo": {
     "elapsed": 9,
     "status": "ok",
     "timestamp": 1666431362143,
     "user": {
      "displayName": "Михаил Архипов",
      "userId": "10246866371929740571"
     },
     "user_tz": -180
    },
    "id": "ik8hu4dENNa7"
   },
   "outputs": [],
   "source": [
    "def rgb2embedding(rgb): # rgb - the state of the environment (image in the form of an array 210x160x3)\n",
    "    \n",
    "    # Convert the image from color to gray and normalize the pixel brightness values to a range from 0 to 1.\n",
    "    rgb = rgb / 255.\n",
    "    result = []\n",
    "    r, g, b = rgb[:,:,0], rgb[:,:,1], rgb[:,:,2]\n",
    "    gray = 0.2989 * r + 0.5870 * g + 0.1140 * b # gray - an array of dimension 210x160\n",
    "    \n",
    "    # !IMPORTANT! \n",
    "    # For an explanation of the further progress of this function, see the file README.md from the repository\n",
    "    gray = gray[34:194] # gray - an array of dimension 160x160\n",
    "   \n",
    "    racket2 = np.where((gray > 0.577) & (gray < 0.578)) # The brightness value of the right racket is 0.57713255\n",
    "    if len(racket2[0]) == 0:\n",
    "        result.extend([-1, -1, -1, -1])\n",
    "    else:\n",
    "        result.extend([racket2[0][0], racket2[1][0], racket2[0][-1], racket2[1][-1]])\n",
    "    ball = np.where((gray > 0.925) & (gray < 0.926)) # The brightness value of the ball is 0.92539765\n",
    "    if len(ball[0]) == 0:\n",
    "        result.extend([-1, -1, -1, -1])\n",
    "    else:\n",
    "        result.extend([ball[0][0], ball[1][0], ball[0][-1], ball[1][-1]])\n",
    "    result = np.array(result)[np.newaxis, ...] # result - an array of dimension 1x8\n",
    "    return result / 160"
   ]
  },
  {
   "cell_type": "markdown",
   "metadata": {},
   "source": [
    "# 6. Let's set hyperparameters."
   ]
  },
  {
   "cell_type": "code",
   "execution_count": 4,
   "metadata": {
    "executionInfo": {
     "elapsed": 332,
     "status": "ok",
     "timestamp": 1666431365075,
     "user": {
      "displayName": "Михаил Архипов",
      "userId": "10246866371929740571"
     },
     "user_tz": -180
    },
    "id": "y2uZQj8nNX9W"
   },
   "outputs": [],
   "source": [
    "lr = 2.5e-4 # learning rate\n",
    "gamma = 0.99 # discount parameter\n",
    "\n",
    "NUM_EPISODES = 100000 # number of training episodes\n",
    "\n",
    "REWARD_AVERAGE_WINDOW = 100 # window for averaging awards by episode\n",
    "\n",
    "REPLAY_BUFFER = 50000 # buffer size for storing sars chains\n",
    "MIN_REPLAY_BUFFER = 10000 # the minimum size of the buffer, after which random chains will be taken from it for training\n",
    "BATCH_SIZE = 32 # the size of the training batch\n",
    "FIT_FREQ = 4 # frequency of training\n",
    "COPY_PERIOD = 10000 # the period of copying the weights of the model from the current to the target\n",
    "\n",
    "RNN_LENGTH = 4 # length of the recurrent chain"
   ]
  },
  {
   "cell_type": "markdown",
   "metadata": {},
   "source": [
    "# 7. Let's write down the function that creates the architecture of our model."
   ]
  },
  {
   "cell_type": "code",
   "execution_count": null,
   "metadata": {
    "executionInfo": {
     "elapsed": 701,
     "status": "ok",
     "timestamp": 1666431367099,
     "user": {
      "displayName": "Михаил Архипов",
      "userId": "10246866371929740571"
     },
     "user_tz": -180
    },
    "id": "XHPSENDFNbks"
   },
   "outputs": [],
   "source": [
    "def make_model(emb_size):\n",
    "    model = tf.keras.Sequential()\n",
    "    # the first layer is recurrent. It takes into account the dynamics of the ball movement\n",
    "    model.add(tf.keras.layers.SimpleRNN(emb_size * 8, activation='relu', return_sequences=False, input_shape=(None, emb_size)))\n",
    "    model.add(tf.keras.layers.Dense(emb_size * 4, kernel_initializer = tf.keras.initializers.RandomUniform(minval=0., maxval=1.), activation = 'relu'))\n",
    "    model.add(tf.keras.layers.Dense(emb_size * 2, kernel_initializer = tf.keras.initializers.RandomUniform(minval=0., maxval=1.), activation = 'relu'))\n",
    "    model.add(tf.keras.layers.Dense(NUM_ACTIONS, kernel_initializer = tf.keras.initializers.RandomUniform(minval=0., maxval=1.)))\n",
    "    optimizer = tf.keras.optimizers.Adam(learning_rate=lr)\n",
    "    model.compile(loss='mse', optimizer=optimizer)\n",
    "    return model\n",
    "# let's create two models of the same architecture, but with different randomly initialized weights\n",
    "model = make_model(8)\n",
    "target_model = make_model(8)"
   ]
  },
  {
   "cell_type": "code",
   "execution_count": 8,
   "metadata": {
    "colab": {
     "base_uri": "https://localhost:8080/"
    },
    "executionInfo": {
     "elapsed": 15,
     "status": "ok",
     "timestamp": 1666431415020,
     "user": {
      "displayName": "Михаил Архипов",
      "userId": "10246866371929740571"
     },
     "user_tz": -180
    },
    "id": "_FK-VeyJNfYe",
    "outputId": "650ed91e-7b3a-4f3c-b351-1549a180c7e2"
   },
   "outputs": [
    {
     "name": "stdout",
     "output_type": "stream",
     "text": [
      "Model: \"sequential\"\n",
      "_________________________________________________________________\n",
      " Layer (type)                Output Shape              Param #   \n",
      "=================================================================\n",
      " simple_rnn (SimpleRNN)      (None, 64)                4672      \n",
      "                                                                 \n",
      " dense (Dense)               (None, 32)                2080      \n",
      "                                                                 \n",
      " dense_1 (Dense)             (None, 16)                528       \n",
      "                                                                 \n",
      " dense_2 (Dense)             (None, 6)                 102       \n",
      "                                                                 \n",
      "=================================================================\n",
      "Total params: 7,382\n",
      "Trainable params: 7,382\n",
      "Non-trainable params: 0\n",
      "_________________________________________________________________\n"
     ]
    }
   ],
   "source": [
    "model.summary()"
   ]
  },
  {
   "cell_type": "markdown",
   "metadata": {},
   "source": [
    "# 8. Let's make the weights of our two created networks the same."
   ]
  },
  {
   "cell_type": "code",
   "execution_count": null,
   "metadata": {
    "executionInfo": {
     "elapsed": 323,
     "status": "ok",
     "timestamp": 1666431417382,
     "user": {
      "displayName": "Михаил Архипов",
      "userId": "10246866371929740571"
     },
     "user_tz": -180
    },
    "id": "Vumzo3JOITmN"
   },
   "outputs": [],
   "source": [
    "def copy_network(model1, model2):\n",
    "    frm = model1\n",
    "    to = model2\n",
    "    for l_tg,l_sr in zip(to.layers,frm.layers):\n",
    "        wk = l_sr.get_weights()\n",
    "        l_tg.set_weights(wk)\n",
    "   \n",
    "copy_network(model, target_model)"
   ]
  },
  {
   "cell_type": "markdown",
   "metadata": {},
   "source": [
    "# 9. Initialize the zero initial values of the lists and the counter variable."
   ]
  },
  {
   "cell_type": "markdown",
   "metadata": {},
   "source": [
    "## 9.1 First initialization."
   ]
  },
  {
   "cell_type": "markdown",
   "metadata": {},
   "source": [
    "Now the code in this paragraph is commented out. But when you start training for the first time, you need to uncomment and execute it. Since the training goes on for a very long time, and the computer can suddenly stop working for various reasons (for example, the lights are turned off), in order not to lose progress, our training saves these five parameters, as well as the model and its weights, every 100 iterations of our training. So if the work was interrupted, then to restore the training from the last checkpoint, we will already comment out paragraph 9.2, and this paragraph (9.1), on the contrary, we will comment out and will not refer to it again in the future."
   ]
  },
  {
   "cell_type": "code",
   "execution_count": null,
   "metadata": {
    "id": "r15E6Q-Bd0j1"
   },
   "outputs": [],
   "source": [
    "pathLenList = [] # trajectory lengths by episodes\n",
    "totalRewardList = [] # total awards by episodes\n",
    "totalRewardAverageList = [] # total awards by episodes (window average)\n",
    "sars_list = [] # a list of sars chains, which, when reaching a length equal to \"REPLAY_BUFFER\",\n",
    "               # starts deleting the oldest chain when adding a new one\n",
    "count = 0 # end-to-end iteration counter"
   ]
  },
  {
   "cell_type": "markdown",
   "metadata": {},
   "source": [
    "## 9.2 Initialization of the saved parameters and the model when resuming work from the checkpoint. "
   ]
  },
  {
   "cell_type": "markdown",
   "metadata": {},
   "source": [
    "Here, instead of 99900, it is necessary to substitute the number of the last saved episode in the process of resuming training."
   ]
  },
  {
   "cell_type": "code",
   "execution_count": 15,
   "metadata": {},
   "outputs": [],
   "source": [
    "# with open(\"pathLenList - 99900.txt\", \"rb\") as myFile:\n",
    "#     pathLenList = pickle.load(myFile)\n",
    "# with open(\"totalRewardList - 99900.txt\", \"rb\") as myFile:\n",
    "#     totalRewardList = pickle.load(myFile)\n",
    "# with open(\"totalRewardAverageList - 99900.txt\", \"rb\") as myFile:\n",
    "#     totalRewardAverageList = pickle.load(myFile)\n",
    "# with open(\"values - 99900.txt\", \"rb\") as myFile:\n",
    "#     count = pickle.load(myFile)\n",
    "# count = count[0]    \n",
    "# with open(\"sars_list - 99900.txt\", \"rb\") as myFile:\n",
    "#     sars_list = pickle.load(myFile)\n",
    "# model = load_model('PONG5_model - 99900.h5')"
   ]
  },
  {
   "cell_type": "markdown",
   "metadata": {},
   "source": [
    "# 10. Finally we begin the learning process"
   ]
  },
  {
   "cell_type": "markdown",
   "metadata": {},
   "source": [
    "In case of resuming training from a checkpoint, instead of \"for i in tqdm(range(NUM_EPISODES)):\", write \"for i in tqdm(range(99901, NUM_EPISODES)):\". Here, instead of 99901, it is necessary to substitute the number of the last saved episode in the process of resuming training + 1."
   ]
  },
  {
   "cell_type": "code",
   "execution_count": null,
   "metadata": {
    "colab": {
     "base_uri": "https://localhost:8080/",
     "height": 1000,
     "referenced_widgets": [
      "a7af992a38e546fcb5d8177622ae27cc",
      "6b67602ff88e4e459341caf1209933ea",
      "49a6cf681624488789dd08255f5f4dd8",
      "a8d8d13553254d8d9a7f4650f728c08d",
      "8c8d75f28d5b4b5287b08eb2043ff686",
      "49788fb450214954b436a6fe3a87fdb9",
      "01d3be6e9f3642c7bc87ee48f182fe4d",
      "3c34b92ceff147b79602980adbe12ead",
      "b95d8f0f22a1443096cff372a880e1e1",
      "8d061173accd4b43bfe8e02651f1a801",
      "f703bebbbf804d7abf496a60dc1c7361"
     ]
    },
    "executionInfo": {
     "elapsed": 6043848,
     "status": "error",
     "timestamp": 1666437482826,
     "user": {
      "displayName": "Михаил Архипов",
      "userId": "10246866371929740571"
     },
     "user_tz": -180
    },
    "id": "VJNbI8U2p4Zy",
    "outputId": "1634e3f9-7f02-46cd-f174-5fb4a1808a99"
   },
   "outputs": [],
   "source": [
    "from pathlib import Path\n",
    "import os\n",
    "path = Path(os.getcwd())\n",
    "\n",
    "for i in tqdm(range(NUM_EPISODES)): # or \"for i in tqdm(range(99901, NUM_EPISODES)):\" for example\n",
    "    eps = 1.0 - i / NUM_EPISODES\n",
    "    s = env.reset()\n",
    "    a = env.action_space.sample()\n",
    "    s, _, done, _ = env.step(a)\n",
    "    s_emb_batch = rgb2embedding(s)\n",
    "    totalReward = 0\n",
    "    step = 0\n",
    "    total_err = 0\n",
    "    err_count = 0\n",
    "    \n",
    "    while not done:\n",
    "        count += 1\n",
    "        step += 1\n",
    "        if len(s_emb_batch) < RNN_LENGTH:\n",
    "            a = env.action_space.sample()\n",
    "        else:\n",
    "            if np.random.rand() < eps:\n",
    "                a = env.action_space.sample()\n",
    "            else:\n",
    "                Q_s = model(s_emb_batch[np.newaxis, ...]).numpy()\n",
    "                a = np.argmax(Q_s)\n",
    "        s1, r, done, _ = env.step(a)\n",
    "        s_emb1 = rgb2embedding(s1)\n",
    "        s_emb_batch_old = s_emb_batch.copy()\n",
    "        s_emb_batch = np.vstack((s_emb_batch, s_emb1))\n",
    "        if len(s_emb_batch) > RNN_LENGTH:\n",
    "            s_emb_batch = np.delete(s_emb_batch, (0), axis=0)\n",
    "        if len(s_emb_batch_old) == RNN_LENGTH:\n",
    "            sars_list.append([s_emb_batch_old, a, r, s_emb_batch, done])\n",
    "        if len(sars_list) > REPLAY_BUFFER:\n",
    "            del sars_list[0]\n",
    "        if count % FIT_FREQ == 0 and count >= FIT_FREQ and len(sars_list) != 0:\n",
    "            if len(sars_list) >= MIN_REPLAY_BUFFER:\n",
    "                batch_s, actions, rewards, batch_s1, terminal = map(np.array,zip(*random.sample(sars_list,BATCH_SIZE)))\n",
    "                next_state_action_values = np.max(target_model.predict(batch_s1),axis=1)\n",
    "                targets = model.predict(batch_s)\n",
    "                targets[range(BATCH_SIZE), actions] = rewards + gamma*next_state_action_values*np.invert(terminal)\n",
    "                err = model.train_on_batch(batch_s, targets)\n",
    "                total_err += err\n",
    "                err_count += 1\n",
    "        if count % COPY_PERIOD == 0:\n",
    "            print('Copy weights')\n",
    "            copy_network(model, target_model)\n",
    "        totalReward += r        \n",
    "    print(\"Episode total reward:\", totalReward)\n",
    "    if err_count != 0:\n",
    "        print('Mean total error: ', total_err / err_count)\n",
    "    if i%100 == 0:\n",
    "        print(\"Saving the model\")\n",
    "        weights_to_save = f\"PONG5_weights - {i}.h5\"\n",
    "        path_to_save = str(path / weights_to_save)\n",
    "        model.save_weights(path_to_save)\n",
    "        model_to_save = f\"PONG5_model - {i}.h5\"\n",
    "        path_to_save = str(path / model_to_save)\n",
    "        model.save(path_to_save)\n",
    "    print(f'Эпизод закончен за {step} шагов')                \n",
    "    pathLenList.append(step)\n",
    "    totalRewardList.append(totalReward)\n",
    "    \n",
    "    if i % REWARD_AVERAGE_WINDOW == 0 and i >= REWARD_AVERAGE_WINDOW:\n",
    "        totalRewardAverage = np.mean(totalRewardList[-REWARD_AVERAGE_WINDOW:])\n",
    "        totalRewardAverageList.append(totalRewardAverage)\n",
    "        print('Episode {}: average total reward = {}'.format(i, totalRewardAverage))\n",
    "    if i%100 == 0 and i > 0:\n",
    "        with open(f\"pathLenList - {i}.txt\", \"wb\") as myFile:\n",
    "            pickle.dump(pathLenList, myFile)\n",
    "        with open(f\"totalRewardList - {i}.txt\", \"wb\") as myFile:\n",
    "            pickle.dump(totalRewardList, myFile)\n",
    "        with open(f\"totalRewardAverageList - {i}.txt\", \"wb\") as myFile:\n",
    "            pickle.dump(totalRewardAverageList, myFile)\n",
    "        with open(f\"values - {i}.txt\", \"wb\") as myFile:\n",
    "            pickle.dump([count], myFile)\n",
    "        with open(f\"sars_list - {i}.txt\", \"wb\") as myFile:\n",
    "            pickle.dump(sars_list, myFile)"
   ]
  },
  {
   "cell_type": "markdown",
   "metadata": {},
   "source": [
    "# 11. We save the model and weights in different formats to the \"Finish_model\" folder."
   ]
  },
  {
   "cell_type": "code",
   "execution_count": null,
   "metadata": {},
   "outputs": [],
   "source": [
    "model.save('Finish_Model/MODEL_H5.h5')\n",
    "model.save('Finish_Model/MODEL')\n",
    "model.save_weights('Finish_Model/WEIGHTS_H5.h5')\n",
    "model.save_weights('Finish_Model/WEIGHTS')"
   ]
  },
  {
   "cell_type": "markdown",
   "metadata": {},
   "source": [
    "Next, to load the finished model, you just need to run the command:"
   ]
  },
  {
   "cell_type": "code",
   "execution_count": 14,
   "metadata": {},
   "outputs": [],
   "source": [
    "# model = load_model('Finish_Model/MODEL')"
   ]
  },
  {
   "cell_type": "markdown",
   "metadata": {},
   "source": [
    "# 12. Various statistics and an example of the game of the finished model."
   ]
  },
  {
   "cell_type": "markdown",
   "metadata": {},
   "source": [
    "## 12.1 A graph of the duration of episodes. "
   ]
  },
  {
   "cell_type": "code",
   "execution_count": 17,
   "metadata": {},
   "outputs": [
    {
     "data": {
      "image/png": "[encoded data removed]",
      "text/plain": [
       "<Figure size 640x480 with 1 Axes>"
      ]
     },
     "metadata": {},
     "output_type": "display_data"
    }
   ],
   "source": [
    "plt.plot(pathLenList)\n",
    "plt.grid()"
   ]
  },
  {
   "cell_type": "markdown",
   "metadata": {},
   "source": [
    "As we can see, the duration of episodes increases. This suggests that the network is playing better and the game is no longer going \"one-way\"."
   ]
  },
  {
   "cell_type": "markdown",
   "metadata": {},
   "source": [
    "## 12.2  A graph of total awards by episode."
   ]
  },
  {
   "cell_type": "code",
   "execution_count": 22,
   "metadata": {},
   "outputs": [
    {
     "data": {
      "image/png": "[encoded data removed]",
      "text/plain": [
       "<Figure size 640x480 with 1 Axes>"
      ]
     },
     "metadata": {},
     "output_type": "display_data"
    }
   ],
   "source": [
    "plt.plot(totalRewardList)\n",
    "plt.grid()"
   ]
  },
  {
   "cell_type": "markdown",
   "metadata": {},
   "source": [
    "As we can see, even 100,000 episodes for learning how to win all the games were not enough. Indeed, there are quite a lot of all possible trajectories. Again, it was still possible to experiment with hyperparameters, as I said above. But the dynamics are clearly visible."
   ]
  },
  {
   "cell_type": "markdown",
   "metadata": {},
   "source": [
    "## 12.3  A graph of the awards averaged for every 100 episodes."
   ]
  },
  {
   "cell_type": "code",
   "execution_count": 24,
   "metadata": {},
   "outputs": [
    {
     "data": {
      "image/png": "[encoded data removed]",
      "text/plain": [
       "<Figure size 640x480 with 1 Axes>"
      ]
     },
     "metadata": {},
     "output_type": "display_data"
    }
   ],
   "source": [
    "plt.plot(totalRewardAverageList)\n",
    "plt.grid()"
   ]
  },
  {
   "cell_type": "markdown",
   "metadata": {},
   "source": [
    "Similar to the previous schedule. The dynamics are also clearly visible."
   ]
  },
  {
   "cell_type": "markdown",
   "metadata": {},
   "source": [
    "## 12.4 An example of a game of a ready-made model. "
   ]
  },
  {
   "cell_type": "code",
   "execution_count": 27,
   "metadata": {
    "id": "9WkD3_-2J5Ao"
   },
   "outputs": [
    {
     "data": {
      "image/png": "[encoded data removed]",
      "text/plain": [
       "<Figure size 640x480 with 1 Axes>"
      ]
     },
     "metadata": {},
     "output_type": "display_data"
    },
    {
     "ename": "KeyboardInterrupt",
     "evalue": "",
     "output_type": "error",
     "traceback": [
      "\u001b[0;31m---------------------------------------------------------------------------\u001b[0m",
      "\u001b[0;31mKeyboardInterrupt\u001b[0m                         Traceback (most recent call last)",
      "Cell \u001b[0;32mIn[27], line 9\u001b[0m\n\u001b[1;32m      7\u001b[0m _\u001b[38;5;241m=\u001b[39mplt\u001b[38;5;241m.\u001b[39mimshow(s)\n\u001b[1;32m      8\u001b[0m plt\u001b[38;5;241m.\u001b[39mshow()\n\u001b[0;32m----> 9\u001b[0m \u001b[43mtime\u001b[49m\u001b[38;5;241;43m.\u001b[39;49m\u001b[43msleep\u001b[49m\u001b[43m(\u001b[49m\u001b[38;5;241;43m0.5\u001b[39;49m\u001b[43m)\u001b[49m\n\u001b[1;32m     10\u001b[0m display\u001b[38;5;241m.\u001b[39mclear_output(wait\u001b[38;5;241m=\u001b[39m\u001b[38;5;28;01mTrue\u001b[39;00m)\n\u001b[1;32m     11\u001b[0m step \u001b[38;5;241m+\u001b[39m\u001b[38;5;241m=\u001b[39m \u001b[38;5;241m1\u001b[39m\n",
      "\u001b[0;31mKeyboardInterrupt\u001b[0m: "
     ]
    }
   ],
   "source": [
    "s = env.reset()\n",
    "s_emb_batch = rgb2embedding(s)\n",
    "totalReward = 0\n",
    "step = 0\n",
    "\n",
    "while True:\n",
    "    _=plt.imshow(s)\n",
    "    plt.show()\n",
    "    time.sleep(0.5)\n",
    "    display.clear_output(wait=True)\n",
    "    step += 1\n",
    "    if len(s_emb_batch) < RNN_LENGTH:\n",
    "        a = env.action_space.sample()\n",
    "    else:\n",
    "        Q_s = model(s_emb_batch[np.newaxis, ...]).numpy()\n",
    "        a = np.argmax(Q_s)\n",
    "    s, r, done, _ = env.step(a)\n",
    "    totalReward += r\n",
    "    s_emb = rgb2embedding(s)\n",
    "    s_emb_batch = np.vstack((s_emb_batch, s_emb))\n",
    "    if len(s_emb_batch) > RNN_LENGTH:\n",
    "        s_emb_batch = np.delete(s_emb_batch, (0), axis=0)\n",
    "    if r != 0:\n",
    "        print('New reward = {}'.format(r))\n",
    "    if done:        \n",
    "        break\n",
    "print('Total reward = {}'.format(totalReward))"
   ]
  },
  {
   "cell_type": "code",
   "execution_count": null,
   "metadata": {},
   "outputs": [],
   "source": []
  },
  {
   "cell_type": "code",
   "execution_count": null,
   "metadata": {},
   "outputs": [],
   "source": []
  }
 ],
 "metadata": {
  "colab": {
   "collapsed_sections": [],
   "provenance": []
  },
  "kernelspec": {
   "display_name": "Python 3 (ipykernel)",
   "language": "python",
   "name": "python3"
  },
  "language_info": {
   "codemirror_mode": {
    "name": "ipython",
    "version": 3
   },
   "file_extension": ".py",
   "mimetype": "text/x-python",
   "name": "python",
   "nbconvert_exporter": "python",
   "pygments_lexer": "ipython3",
   "version": "3.8.10"
  },
  "widgets": {
   "application/vnd.jupyter.widget-state+json": {
    "01d3be6e9f3642c7bc87ee48f182fe4d": {
     "model_module": "@jupyter-widgets/controls",
     "model_module_version": "1.5.0",
     "model_name": "DescriptionStyleModel",
     "state": {
      "_model_module": "@jupyter-widgets/controls",
      "_model_module_version": "1.5.0",
      "_model_name": "DescriptionStyleModel",
      "_view_count": null,
      "_view_module": "@jupyter-widgets/base",
      "_view_module_version": "1.2.0",
      "_view_name": "StyleView",
      "description_width": ""
     }
    },
    "3c34b92ceff147b79602980adbe12ead": {
     "model_module": "@jupyter-widgets/base",
     "model_module_version": "1.2.0",
     "model_name": "LayoutModel",
     "state": {
      "_model_module": "@jupyter-widgets/base",
      "_model_module_version": "1.2.0",
      "_model_name": "LayoutModel",
      "_view_count": null,
      "_view_module": "@jupyter-widgets/base",
      "_view_module_version": "1.2.0",
      "_view_name": "LayoutView",
      "align_content": null,
      "align_items": null,
      "align_self": null,
      "border": null,
      "bottom": null,
      "display": null,
      "flex": null,
      "flex_flow": null,
      "grid_area": null,
      "grid_auto_columns": null,
      "grid_auto_flow": null,
      "grid_auto_rows": null,
      "grid_column": null,
      "grid_gap": null,
      "grid_row": null,
      "grid_template_areas": null,
      "grid_template_columns": null,
      "grid_template_rows": null,
      "height": null,
      "justify_content": null,
      "justify_items": null,
      "left": null,
      "margin": null,
      "max_height": null,
      "max_width": null,
      "min_height": null,
      "min_width": null,
      "object_fit": null,
      "object_position": null,
      "order": null,
      "overflow": null,
      "overflow_x": null,
      "overflow_y": null,
      "padding": null,
      "right": null,
      "top": null,
      "visibility": null,
      "width": null
     }
    },
    "49788fb450214954b436a6fe3a87fdb9": {
     "model_module": "@jupyter-widgets/base",
     "model_module_version": "1.2.0",
     "model_name": "LayoutModel",
     "state": {
      "_model_module": "@jupyter-widgets/base",
      "_model_module_version": "1.2.0",
      "_model_name": "LayoutModel",
      "_view_count": null,
      "_view_module": "@jupyter-widgets/base",
      "_view_module_version": "1.2.0",
      "_view_name": "LayoutView",
      "align_content": null,
      "align_items": null,
      "align_self": null,
      "border": null,
      "bottom": null,
      "display": null,
      "flex": null,
      "flex_flow": null,
      "grid_area": null,
      "grid_auto_columns": null,
      "grid_auto_flow": null,
      "grid_auto_rows": null,
      "grid_column": null,
      "grid_gap": null,
      "grid_row": null,
      "grid_template_areas": null,
      "grid_template_columns": null,
      "grid_template_rows": null,
      "height": null,
      "justify_content": null,
      "justify_items": null,
      "left": null,
      "margin": null,
      "max_height": null,
      "max_width": null,
      "min_height": null,
      "min_width": null,
      "object_fit": null,
      "object_position": null,
      "order": null,
      "overflow": null,
      "overflow_x": null,
      "overflow_y": null,
      "padding": null,
      "right": null,
      "top": null,
      "visibility": null,
      "width": null
     }
    },
    "49a6cf681624488789dd08255f5f4dd8": {
     "model_module": "@jupyter-widgets/controls",
     "model_module_version": "1.5.0",
     "model_name": "FloatProgressModel",
     "state": {
      "_dom_classes": [],
      "_model_module": "@jupyter-widgets/controls",
      "_model_module_version": "1.5.0",
      "_model_name": "FloatProgressModel",
      "_view_count": null,
      "_view_module": "@jupyter-widgets/controls",
      "_view_module_version": "1.5.0",
      "_view_name": "ProgressView",
      "bar_style": "danger",
      "description": "",
      "description_tooltip": null,
      "layout": "IPY_MODEL_3c34b92ceff147b79602980adbe12ead",
      "max": 99699,
      "min": 0,
      "orientation": "horizontal",
      "style": "IPY_MODEL_b95d8f0f22a1443096cff372a880e1e1",
      "value": 99
     }
    },
    "6b67602ff88e4e459341caf1209933ea": {
     "model_module": "@jupyter-widgets/controls",
     "model_module_version": "1.5.0",
     "model_name": "HTMLModel",
     "state": {
      "_dom_classes": [],
      "_model_module": "@jupyter-widgets/controls",
      "_model_module_version": "1.5.0",
      "_model_name": "HTMLModel",
      "_view_count": null,
      "_view_module": "@jupyter-widgets/controls",
      "_view_module_version": "1.5.0",
      "_view_name": "HTMLView",
      "description": "",
      "description_tooltip": null,
      "layout": "IPY_MODEL_49788fb450214954b436a6fe3a87fdb9",
      "placeholder": "​",
      "style": "IPY_MODEL_01d3be6e9f3642c7bc87ee48f182fe4d",
      "value": "  0%"
     }
    },
    "8c8d75f28d5b4b5287b08eb2043ff686": {
     "model_module": "@jupyter-widgets/base",
     "model_module_version": "1.2.0",
     "model_name": "LayoutModel",
     "state": {
      "_model_module": "@jupyter-widgets/base",
      "_model_module_version": "1.2.0",
      "_model_name": "LayoutModel",
      "_view_count": null,
      "_view_module": "@jupyter-widgets/base",
      "_view_module_version": "1.2.0",
      "_view_name": "LayoutView",
      "align_content": null,
      "align_items": null,
      "align_self": null,
      "border": null,
      "bottom": null,
      "display": null,
      "flex": null,
      "flex_flow": null,
      "grid_area": null,
      "grid_auto_columns": null,
      "grid_auto_flow": null,
      "grid_auto_rows": null,
      "grid_column": null,
      "grid_gap": null,
      "grid_row": null,
      "grid_template_areas": null,
      "grid_template_columns": null,
      "grid_template_rows": null,
      "height": null,
      "justify_content": null,
      "justify_items": null,
      "left": null,
      "margin": null,
      "max_height": null,
      "max_width": null,
      "min_height": null,
      "min_width": null,
      "object_fit": null,
      "object_position": null,
      "order": null,
      "overflow": null,
      "overflow_x": null,
      "overflow_y": null,
      "padding": null,
      "right": null,
      "top": null,
      "visibility": null,
      "width": null
     }
    },
    "8d061173accd4b43bfe8e02651f1a801": {
     "model_module": "@jupyter-widgets/base",
     "model_module_version": "1.2.0",
     "model_name": "LayoutModel",
     "state": {
      "_model_module": "@jupyter-widgets/base",
      "_model_module_version": "1.2.0",
      "_model_name": "LayoutModel",
      "_view_count": null,
      "_view_module": "@jupyter-widgets/base",
      "_view_module_version": "1.2.0",
      "_view_name": "LayoutView",
      "align_content": null,
      "align_items": null,
      "align_self": null,
      "border": null,
      "bottom": null,
      "display": null,
      "flex": null,
      "flex_flow": null,
      "grid_area": null,
      "grid_auto_columns": null,
      "grid_auto_flow": null,
      "grid_auto_rows": null,
      "grid_column": null,
      "grid_gap": null,
      "grid_row": null,
      "grid_template_areas": null,
      "grid_template_columns": null,
      "grid_template_rows": null,
      "height": null,
      "justify_content": null,
      "justify_items": null,
      "left": null,
      "margin": null,
      "max_height": null,
      "max_width": null,
      "min_height": null,
      "min_width": null,
      "object_fit": null,
      "object_position": null,
      "order": null,
      "overflow": null,
      "overflow_x": null,
      "overflow_y": null,
      "padding": null,
      "right": null,
      "top": null,
      "visibility": null,
      "width": null
     }
    },
    "a7af992a38e546fcb5d8177622ae27cc": {
     "model_module": "@jupyter-widgets/controls",
     "model_module_version": "1.5.0",
     "model_name": "HBoxModel",
     "state": {
      "_dom_classes": [],
      "_model_module": "@jupyter-widgets/controls",
      "_model_module_version": "1.5.0",
      "_model_name": "HBoxModel",
      "_view_count": null,
      "_view_module": "@jupyter-widgets/controls",
      "_view_module_version": "1.5.0",
      "_view_name": "HBoxView",
      "box_style": "",
      "children": [
       "IPY_MODEL_6b67602ff88e4e459341caf1209933ea",
       "IPY_MODEL_49a6cf681624488789dd08255f5f4dd8",
       "IPY_MODEL_a8d8d13553254d8d9a7f4650f728c08d"
      ],
      "layout": "IPY_MODEL_8c8d75f28d5b4b5287b08eb2043ff686"
     }
    },
    "a8d8d13553254d8d9a7f4650f728c08d": {
     "model_module": "@jupyter-widgets/controls",
     "model_module_version": "1.5.0",
     "model_name": "HTMLModel",
     "state": {
      "_dom_classes": [],
      "_model_module": "@jupyter-widgets/controls",
      "_model_module_version": "1.5.0",
      "_model_name": "HTMLModel",
      "_view_count": null,
      "_view_module": "@jupyter-widgets/controls",
      "_view_module_version": "1.5.0",
      "_view_name": "HTMLView",
      "description": "",
      "description_tooltip": null,
      "layout": "IPY_MODEL_8d061173accd4b43bfe8e02651f1a801",
      "placeholder": "​",
      "style": "IPY_MODEL_f703bebbbf804d7abf496a60dc1c7361",
      "value": " 99/99699 [1:33:17&lt;1485:38:49, 53.70s/it]"
     }
    },
    "b95d8f0f22a1443096cff372a880e1e1": {
     "model_module": "@jupyter-widgets/controls",
     "model_module_version": "1.5.0",
     "model_name": "ProgressStyleModel",
     "state": {
      "_model_module": "@jupyter-widgets/controls",
      "_model_module_version": "1.5.0",
      "_model_name": "ProgressStyleModel",
      "_view_count": null,
      "_view_module": "@jupyter-widgets/base",
      "_view_module_version": "1.2.0",
      "_view_name": "StyleView",
      "bar_color": null,
      "description_width": ""
     }
    },
    "f703bebbbf804d7abf496a60dc1c7361": {
     "model_module": "@jupyter-widgets/controls",
     "model_module_version": "1.5.0",
     "model_name": "DescriptionStyleModel",
     "state": {
      "_model_module": "@jupyter-widgets/controls",
      "_model_module_version": "1.5.0",
      "_model_name": "DescriptionStyleModel",
      "_view_count": null,
      "_view_module": "@jupyter-widgets/base",
      "_view_module_version": "1.2.0",
      "_view_name": "StyleView",
      "description_width": ""
     }
    }
   }
  }
 },
 "nbformat": 4,
 "nbformat_minor": 1
}
